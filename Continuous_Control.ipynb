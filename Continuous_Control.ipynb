{
 "cells": [
  {
   "cell_type": "markdown",
   "metadata": {},
   "source": [
    "# Continuous Control\n",
    "\n",
    "---\n",
    "\n",
    "We will learn how to use the Unity ML-Agents environment for the second project of the [Deep Reinforcement Learning Nanodegree](https://www.udacity.com/course/deep-reinforcement-learning-nanodegree--nd893) program. Follow the instructions below to get started with using the multi agent in the reacher environment!\n",
    "\n",
    "### 1. Start the Environment\n",
    "\n",
    "Run the next code cell to install a few packages.  This line will take a few minutes to run!"
   ]
  },
  {
   "cell_type": "code",
   "execution_count": 11,
   "metadata": {},
   "outputs": [
    {
     "name": "stdout",
     "output_type": "stream",
     "text": [
      "\u001b[31mERROR: Invalid requirement: './python'\n",
      "Hint: It looks like a path. File './python' does not exist.\u001b[0m\n",
      "\u001b[33mWARNING: You are using pip version 20.1.1; however, version 20.2.1 is available.\n",
      "You should consider upgrading via the '/opt/anaconda3/bin/python -m pip install --upgrade pip' command.\u001b[0m\n"
     ]
    }
   ],
   "source": [
    "!pip -q install ./python"
   ]
  },
  {
   "cell_type": "markdown",
   "metadata": {},
   "source": [
    "The environments corresponding to both versions of the environment are already saved in the Workspace and can be accessed at the file paths provided below.  \n",
    "\n",
    "Please select one of the two options below for loading the environment."
   ]
  },
  {
   "cell_type": "code",
   "execution_count": 1,
   "metadata": {},
   "outputs": [],
   "source": [
    "from collections import deque\n",
    "import matplotlib.pyplot as plt\n",
    "import numpy as np\n",
    "import random\n",
    "import time\n",
    "import torch\n",
    "%matplotlib inline"
   ]
  },
  {
   "cell_type": "markdown",
   "metadata": {},
   "source": [
    "Now, we will start the environment!  **_Before running the code cell below_**, change the `file_name` parameter to match the location of the Unity environment.\n",
    "\n",
    "- **Mac**: `\"path/to/Reacher.app\"`\n",
    "- **Windows** (x86): `\"path/to/Reacher_Windows_x86/Reacher.exe\"`\n",
    "- **Windows** (x86_64): `\"path/to/Reacher_Windows_x86_64/Reacher.exe\"`\n",
    "- **Linux** (x86): `\"path/to/Reacher_Linux/Reacher.x86\"`\n",
    "- **Linux** (x86_64): `\"path/to/Reacher_Linux/Reacher.x86_64\"`\n",
    "- **Linux** (x86, headless): `\"path/to/Reacher_Linux_NoVis/Reacher.x86\"`\n",
    "- **Linux** (x86_64, headless): `\"path/to/Reacher_Linux_NoVis/Reacher.x86_64\"`\n",
    "\n",
    "For example, if you are using a Macbook, then you downloaded `Reacher.app`.  If this file is in the same folder as the notebook, then the line below should appear as follows:\n",
    "\n",
    "=> env = UnityEnvironment( file_name = \"/...location in your computer.../Reacher.app\")\n"
   ]
  },
  {
   "cell_type": "code",
   "execution_count": 2,
   "metadata": {},
   "outputs": [
    {
     "name": "stderr",
     "output_type": "stream",
     "text": [
      "INFO:unityagents:\n",
      "'Academy' started successfully!\n",
      "Unity Academy name: Academy\n",
      "        Number of Brains: 1\n",
      "        Number of External Brains : 1\n",
      "        Lesson number : 0\n",
      "        Reset Parameters :\n",
      "\t\tgoal_speed -> 1.0\n",
      "\t\tgoal_size -> 5.0\n",
      "Unity brain name: ReacherBrain\n",
      "        Number of Visual Observations (per agent): 0\n",
      "        Vector Observation space type: continuous\n",
      "        Vector Observation space size (per agent): 33\n",
      "        Number of stacked Vector Observation: 1\n",
      "        Vector Action space type: continuous\n",
      "        Vector Action space size (per agent): 4\n",
      "        Vector Action descriptions: , , , \n"
     ]
    }
   ],
   "source": [
    "from unityagents import UnityEnvironment\n",
    "\n",
    "#Running locally:\n",
    "env = UnityEnvironment(file_name ='/Users/tancao/Desktop/p2_continuous-control/Reacher.app')\n",
    "# select this option to load version 1 (with a single agent) of the environment\n",
    "#env = UnityEnvironment(file_name='/data/Reacher_One_Linux_NoVis/Reacher_One_Linux_NoVis.x86_64')\n",
    "\n",
    "# select this option to load version 2 (with 20 agents) of the environment\n",
    "#env = UnityEnvironment(file_name='/data/Reacher_Linux_NoVis/Reacher.x86_64')\n"
   ]
  },
  {
   "cell_type": "markdown",
   "metadata": {},
   "source": [
    "Environments contain **_brains_** which are responsible for deciding the actions of their associated agents. Here we check for the first brain available, and set it as the default brain we will be controlling from Python."
   ]
  },
  {
   "cell_type": "code",
   "execution_count": 3,
   "metadata": {},
   "outputs": [],
   "source": [
    "# get the default brain\n",
    "brain_name = env.brain_names[0]\n",
    "brain = env.brains[brain_name]"
   ]
  },
  {
   "cell_type": "markdown",
   "metadata": {},
   "source": [
    "### 2. Examine the State and Action Spaces\n",
    "\n",
    "Run the code cell below to print some information about the environment."
   ]
  },
  {
   "cell_type": "code",
   "execution_count": 11,
   "metadata": {},
   "outputs": [
    {
     "name": "stdout",
     "output_type": "stream",
     "text": [
      "Number of agents: 20\n",
      "Size of each action: 4\n",
      "There are 20 agents. Each observes a state with length: 33\n",
      "The state for the first agent looks like: [ 0.00000000e+00 -4.00000000e+00  0.00000000e+00  1.00000000e+00\n",
      " -0.00000000e+00 -0.00000000e+00 -4.37113883e-08  0.00000000e+00\n",
      "  0.00000000e+00  0.00000000e+00  0.00000000e+00  0.00000000e+00\n",
      "  0.00000000e+00  0.00000000e+00 -1.00000000e+01  0.00000000e+00\n",
      "  1.00000000e+00 -0.00000000e+00 -0.00000000e+00 -4.37113883e-08\n",
      "  0.00000000e+00  0.00000000e+00  0.00000000e+00  0.00000000e+00\n",
      "  0.00000000e+00  0.00000000e+00 -4.35711288e+00 -1.00000000e+00\n",
      " -6.70936584e+00  0.00000000e+00  1.00000000e+00  0.00000000e+00\n",
      " -6.05007887e-01]\n"
     ]
    }
   ],
   "source": [
    "# reset the environment\n",
    "env_info = env.reset(train_mode=True)[brain_name]\n",
    "\n",
    "# number of agents\n",
    "num_agents = len(env_info.agents)\n",
    "print('Number of agents:', num_agents)\n",
    "\n",
    "# size of each action\n",
    "action_size = brain.vector_action_space_size\n",
    "print('Size of each action:', action_size)\n",
    "\n",
    "# examine the state space \n",
    "states = env_info.vector_observations\n",
    "state_size = states.shape[1]\n",
    "print('There are {} agents. Each observes a state with length: {}'.format(states.shape[0], state_size))\n",
    "print('The state for the first agent looks like:', states[0])"
   ]
  },
  {
   "cell_type": "markdown",
   "metadata": {},
   "source": [
    "### 3. Take Random Actions in the Environment\n",
    "\n",
    "In the next code cell, you will learn how to use the Python API to control the agent and receive feedback from the environment.\n",
    "\n",
    "Note that **in this coding environment, you will not be able to watch the agents while they are training**, and you should set `train_mode=True` to restart the environment."
   ]
  },
  {
   "cell_type": "code",
   "execution_count": 16,
   "metadata": {},
   "outputs": [
    {
     "name": "stdout",
     "output_type": "stream",
     "text": [
      "Number of actions that agents took is 1001\n",
      "Total score (averaged over agents) this episode: 0.23249999480322003\n"
     ]
    }
   ],
   "source": [
    "env_info = env.reset(train_mode=True)[brain_name]      # reset the environment    \n",
    "states = env_info.vector_observations                  # get the current state (for each agent)\n",
    "scores = np.zeros(num_agents)                          # initialize the score (for each agent)\n",
    "x = 0\n",
    "while True:\n",
    "    actions = np.random.randn(num_agents, action_size) # select an action (for each agent)\n",
    "    actions = np.clip(actions, -1, 1)                  # all actions between -1 and 1\n",
    "    env_info = env.step(actions)[brain_name]           # send all actions to tne environment\n",
    "    next_states = env_info.vector_observations         # get next state (for each agent)\n",
    "    rewards = env_info.rewards                         # get reward (for each agent)\n",
    "    dones = env_info.local_done                        # see if episode finished\n",
    "    scores += env_info.rewards                         # update the score (for each agent)\n",
    "    states = next_states                               # roll over states to next time step\n",
    "    x+=1\n",
    "    if np.any(dones):                                  # exit loop if episode finished\n",
    "        break\n",
    "print('Number of actions that agents took is', x)\n",
    "print('Total score (averaged over agents) this episode: {}'.format(np.mean(scores)))"
   ]
  },
  {
   "cell_type": "markdown",
   "metadata": {},
   "source": [
    "When finished, you can close the environment."
   ]
  },
  {
   "cell_type": "code",
   "execution_count": 7,
   "metadata": {},
   "outputs": [],
   "source": [
    "#env.close()"
   ]
  },
  {
   "cell_type": "markdown",
   "metadata": {},
   "source": [
    "### 4. It's Your Turn!\n",
    "\n",
    "Now it's your turn to train your own agent to solve the environment!  A few **important notes**:\n",
    "- When training the environment, set `train_mode=True`, so that the line for resetting the environment looks like the following:\n",
    "```python\n",
    "env_info = env.reset(train_mode=True)[brain_name]\n",
    "```\n",
    "- To structure your work, you're welcome to work directly in this Jupyter notebook, or you might like to start over with a new file!  You can see the list of files in the workspace by clicking on **_Jupyter_** in the top left corner of the notebook.\n",
    "- In this coding environment, you will not be able to watch the agents while they are training.  However, **_after training the agents_**, you can download the saved model weights to watch the agents on your own machine! "
   ]
  },
  {
   "cell_type": "code",
   "execution_count": 6,
   "metadata": {},
   "outputs": [],
   "source": [
    "# DDPG function\n",
    "def ddpg(n_episodes=500, max_t=1000, solved_score=30.0, consec_episodes=100, print_every=1, train_mode=True,\n",
    "         actor_path='actor_checkpoint.pth', critic_path='critic_checkpoint.pth'):\n",
    "    \"\"\"Deep Deterministic Policy Gradient (DDPG)\n",
    "    \n",
    "    Params\n",
    "    ======\n",
    "        n_episodes (int)      : maximum number of training episodes\n",
    "        max_t (int)           : maximum number of timesteps per episode\n",
    "        train_mode (bool)     : if 'True' set environment to training mode\n",
    "        solved_score (float)  : min avg score over consecutive episodes\n",
    "        consec_episodes (int) : number of consecutive episodes used to calculate score\n",
    "        print_every (int)     : interval to display results\n",
    "        actor_path (str)      : directory to store actor network weights\n",
    "        critic_path (str)     : directory to store critic network weights\n",
    "\n",
    "    \"\"\"\n",
    "    mean_scores = []                               # list of mean scores from each episode\n",
    "    min_scores = []                                # list of lowest scores from each episode\n",
    "    max_scores = []                                # list of highest scores from each episode\n",
    "    best_score = -np.inf\n",
    "    scores_window = deque(maxlen=consec_episodes)  # mean scores from most recent episodes\n",
    "    moving_avgs = []                               # list of moving averages\n",
    "    \n",
    "    for i_episode in range(1, n_episodes+1):\n",
    "        env_info = env.reset(train_mode=train_mode)[brain_name] # reset environment\n",
    "        states = env_info.vector_observations                   # get current state for each agent      \n",
    "        scores = np.zeros(num_agents)                           # initialize score for each agent\n",
    "        agent.noise.reset()\n",
    "        start_time = time.time()\n",
    "        for t in range(max_t):\n",
    "            actions = agent.act(states)                         # select an action\n",
    "            env_info = env.step(actions)[brain_name]            # send actions to environment\n",
    "            next_states = env_info.vector_observations          # get next state\n",
    "            rewards = env_info.rewards                          # get reward\n",
    "            # save experience to replay buffer, perform learning step at defined interval\n",
    "            for state, action, reward, next_state in zip(states, actions, rewards, next_states):\n",
    "                agent.step(state, action, reward, next_state)             \n",
    "            states = next_states\n",
    "            scores += rewards        \n",
    "\n",
    "        duration = time.time() - start_time\n",
    "        min_scores.append(np.min(scores))             # save lowest score for a single agent\n",
    "        max_scores.append(np.max(scores))             # save highest score for a single agent        \n",
    "        mean_scores.append(np.mean(scores))           # save mean score for the episode\n",
    "        scores_window.append(mean_scores[-1])         # save mean score to window\n",
    "        moving_avgs.append(np.mean(scores_window))    # save moving average\n",
    "        time_episode_str = time.strftime('%Mm%Ss', time.gmtime(duration))\n",
    "        \n",
    "        if i_episode % print_every == 0:\n",
    "            print('\\rEpisode {:3d} ({})\\tScore: {:5.2f} (H: {:5.2f} / L: {:5.2f}) \\tMoving Average: {:5.2f}'.format(\\\n",
    "                  i_episode, time_episode_str,mean_scores[-1], max_scores[-1], min_scores[-1], moving_avgs[-1]))\n",
    "        \n",
    "        if train_mode and mean_scores[-1] > best_score:\n",
    "            torch.save(agent.actor_local.state_dict(), actor_path)\n",
    "            torch.save(agent.critic_local.state_dict(), critic_path)\n",
    "                  \n",
    "        if moving_avgs[-1] >= solved_score:\n",
    "            print('\\nEnvironment SOLVED in {} episodes!\\tWith the Moving Average of ={:.1f}.'.format(\\\n",
    "                                    i_episode-consec_episodes, moving_avgs[-1]))            \n",
    "            if train_mode:\n",
    "                torch.save(agent.actor_local.state_dict(), actor_path)\n",
    "                torch.save(agent.critic_local.state_dict(), critic_path)  \n",
    "            break\n",
    "            \n",
    "    return mean_scores, moving_avgs"
   ]
  },
  {
   "cell_type": "code",
   "execution_count": 7,
   "metadata": {
    "scrolled": true
   },
   "outputs": [
    {
     "name": "stdout",
     "output_type": "stream",
     "text": [
      "Following is the result (score information) after each episode.\n",
      "Episode   1 (03m27s)\tScore:  0.61 (H:  1.46 / L:  0.00) \tMoving Average:  0.61\n",
      "Episode   2 (03m55s)\tScore:  1.95 (H:  3.78 / L:  0.62) \tMoving Average:  1.28\n",
      "Episode   3 (03m36s)\tScore:  2.66 (H:  4.86 / L:  1.53) \tMoving Average:  1.74\n",
      "Episode   4 (03m22s)\tScore:  2.08 (H:  4.02 / L:  0.71) \tMoving Average:  1.83\n",
      "Episode   5 (03m23s)\tScore:  3.86 (H:  5.95 / L:  1.64) \tMoving Average:  2.23\n",
      "Episode   6 (03m24s)\tScore:  4.48 (H:  7.47 / L:  1.56) \tMoving Average:  2.61\n",
      "Episode   7 (03m25s)\tScore:  5.30 (H:  9.72 / L:  2.97) \tMoving Average:  2.99\n",
      "Episode   8 (03m25s)\tScore:  6.64 (H: 10.41 / L:  2.98) \tMoving Average:  3.45\n",
      "Episode   9 (03m25s)\tScore:  8.50 (H: 14.57 / L:  3.33) \tMoving Average:  4.01\n",
      "Episode  10 (03m24s)\tScore: 10.72 (H: 16.41 / L:  2.20) \tMoving Average:  4.68\n",
      "Episode  11 (03m24s)\tScore: 11.19 (H: 19.99 / L:  5.86) \tMoving Average:  5.27\n",
      "Episode  12 (03m23s)\tScore: 12.77 (H: 19.36 / L:  4.47) \tMoving Average:  5.90\n",
      "Episode  13 (03m24s)\tScore: 12.03 (H: 26.92 / L:  2.77) \tMoving Average:  6.37\n",
      "Episode  14 (03m23s)\tScore: 17.31 (H: 30.23 / L:  4.85) \tMoving Average:  7.15\n",
      "Episode  15 (03m24s)\tScore: 21.98 (H: 37.76 / L:  3.61) \tMoving Average:  8.14\n",
      "Episode  16 (03m24s)\tScore: 26.46 (H: 37.76 / L:  2.21) \tMoving Average:  9.28\n",
      "Episode  17 (03m23s)\tScore: 23.99 (H: 36.72 / L:  0.77) \tMoving Average: 10.15\n",
      "Episode  18 (03m24s)\tScore: 21.90 (H: 38.97 / L:  0.56) \tMoving Average: 10.80\n",
      "Episode  19 (03m23s)\tScore: 28.77 (H: 38.11 / L:  1.19) \tMoving Average: 11.75\n",
      "Episode  20 (03m23s)\tScore: 19.26 (H: 34.33 / L:  1.12) \tMoving Average: 12.12\n",
      "Episode  21 (03m24s)\tScore: 26.91 (H: 37.56 / L:  9.55) \tMoving Average: 12.83\n",
      "Episode  22 (03m24s)\tScore: 30.02 (H: 38.21 / L:  0.57) \tMoving Average: 13.61\n",
      "Episode  23 (03m22s)\tScore: 33.22 (H: 39.16 / L:  5.02) \tMoving Average: 14.46\n",
      "Episode  24 (03m24s)\tScore: 35.95 (H: 38.84 / L: 30.75) \tMoving Average: 15.36\n",
      "Episode  25 (03m23s)\tScore: 33.56 (H: 38.40 / L: 23.00) \tMoving Average: 16.09\n",
      "Episode  26 (03m24s)\tScore: 33.73 (H: 38.80 / L: 12.35) \tMoving Average: 16.76\n",
      "Episode  27 (03m24s)\tScore: 30.39 (H: 38.92 / L:  9.49) \tMoving Average: 17.27\n",
      "Episode  28 (03m23s)\tScore: 31.87 (H: 37.87 / L:  7.14) \tMoving Average: 17.79\n",
      "Episode  29 (03m23s)\tScore: 30.88 (H: 37.19 / L: 10.23) \tMoving Average: 18.24\n",
      "Episode  30 (03m24s)\tScore: 30.82 (H: 37.28 / L: 24.38) \tMoving Average: 18.66\n",
      "Episode  31 (03m23s)\tScore: 35.68 (H: 38.91 / L: 32.46) \tMoving Average: 19.21\n",
      "Episode  32 (03m23s)\tScore: 35.13 (H: 39.25 / L: 30.76) \tMoving Average: 19.71\n",
      "Episode  33 (03m23s)\tScore: 36.42 (H: 39.48 / L: 30.87) \tMoving Average: 20.21\n",
      "Episode  34 (03m23s)\tScore: 31.12 (H: 39.06 / L:  6.49) \tMoving Average: 20.53\n",
      "Episode  35 (03m23s)\tScore: 35.91 (H: 39.20 / L: 30.25) \tMoving Average: 20.97\n",
      "Episode  36 (03m24s)\tScore: 31.15 (H: 38.35 / L:  7.45) \tMoving Average: 21.26\n",
      "Episode  37 (03m23s)\tScore: 35.86 (H: 38.76 / L: 33.40) \tMoving Average: 21.65\n",
      "Episode  38 (03m23s)\tScore: 37.40 (H: 38.95 / L: 33.62) \tMoving Average: 22.07\n",
      "Episode  39 (03m23s)\tScore: 34.27 (H: 38.55 / L: 19.85) \tMoving Average: 22.38\n",
      "Episode  40 (03m23s)\tScore: 34.99 (H: 39.26 / L: 24.92) \tMoving Average: 22.69\n",
      "Episode  41 (03m23s)\tScore: 36.70 (H: 39.32 / L: 33.47) \tMoving Average: 23.04\n",
      "Episode  42 (03m23s)\tScore: 33.81 (H: 39.27 / L: 29.02) \tMoving Average: 23.29\n",
      "Episode  43 (03m23s)\tScore: 35.93 (H: 39.24 / L: 31.58) \tMoving Average: 23.59\n",
      "Episode  44 (03m23s)\tScore: 35.70 (H: 38.87 / L: 29.32) \tMoving Average: 23.86\n",
      "Episode  45 (03m23s)\tScore: 36.25 (H: 39.63 / L: 29.10) \tMoving Average: 24.14\n",
      "Episode  46 (03m22s)\tScore: 35.24 (H: 39.34 / L: 29.92) \tMoving Average: 24.38\n",
      "Episode  47 (03m23s)\tScore: 37.22 (H: 39.36 / L: 32.12) \tMoving Average: 24.65\n",
      "Episode  48 (03m23s)\tScore: 36.64 (H: 39.45 / L: 30.86) \tMoving Average: 24.90\n",
      "Episode  49 (03m22s)\tScore: 34.35 (H: 38.99 / L:  6.96) \tMoving Average: 25.09\n",
      "Episode  50 (03m23s)\tScore: 33.77 (H: 38.62 / L:  9.13) \tMoving Average: 25.27\n",
      "Episode  51 (03m23s)\tScore: 34.78 (H: 38.08 / L: 14.70) \tMoving Average: 25.45\n",
      "Episode  52 (03m22s)\tScore: 36.25 (H: 38.98 / L: 24.43) \tMoving Average: 25.66\n",
      "Episode  53 (03m23s)\tScore: 36.29 (H: 39.48 / L:  8.98) \tMoving Average: 25.86\n",
      "Episode  54 (03m23s)\tScore: 33.70 (H: 38.16 / L: 19.86) \tMoving Average: 26.01\n",
      "Episode  55 (03m22s)\tScore: 36.11 (H: 39.53 / L: 24.17) \tMoving Average: 26.19\n",
      "Episode  56 (03m22s)\tScore: 37.01 (H: 39.53 / L: 28.80) \tMoving Average: 26.38\n",
      "Episode  57 (03m22s)\tScore: 34.90 (H: 38.52 / L: 25.49) \tMoving Average: 26.53\n",
      "Episode  58 (03m22s)\tScore: 31.71 (H: 38.63 / L: 20.21) \tMoving Average: 26.62\n",
      "Episode  59 (03m23s)\tScore: 32.48 (H: 38.34 / L:  9.44) \tMoving Average: 26.72\n",
      "Episode  60 (03m22s)\tScore: 34.33 (H: 38.51 / L: 10.25) \tMoving Average: 26.85\n",
      "Episode  61 (03m22s)\tScore: 33.63 (H: 39.66 / L: 26.93) \tMoving Average: 26.96\n",
      "Episode  62 (03m22s)\tScore: 32.49 (H: 38.28 / L:  8.58) \tMoving Average: 27.05\n",
      "Episode  63 (03m23s)\tScore: 31.03 (H: 38.23 / L:  7.22) \tMoving Average: 27.11\n",
      "Episode  64 (03m22s)\tScore: 35.03 (H: 39.22 / L: 26.89) \tMoving Average: 27.24\n",
      "Episode  65 (03m22s)\tScore: 33.65 (H: 37.31 / L: 26.75) \tMoving Average: 27.33\n",
      "Episode  66 (03m22s)\tScore: 32.63 (H: 35.85 / L: 25.62) \tMoving Average: 27.42\n",
      "Episode  67 (03m22s)\tScore: 33.50 (H: 39.23 / L: 23.87) \tMoving Average: 27.51\n",
      "Episode  68 (03m23s)\tScore: 34.01 (H: 38.92 / L: 22.50) \tMoving Average: 27.60\n",
      "Episode  69 (03m22s)\tScore: 33.80 (H: 39.31 / L: 26.59) \tMoving Average: 27.69\n",
      "Episode  70 (03m23s)\tScore: 34.98 (H: 39.19 / L: 21.34) \tMoving Average: 27.80\n",
      "Episode  71 (03m22s)\tScore: 33.73 (H: 39.17 / L: 19.69) \tMoving Average: 27.88\n",
      "Episode  72 (03m22s)\tScore: 35.51 (H: 39.53 / L: 23.69) \tMoving Average: 27.99\n",
      "Episode  73 (03m23s)\tScore: 35.20 (H: 39.36 / L: 22.07) \tMoving Average: 28.08\n",
      "Episode  74 (03m23s)\tScore: 34.47 (H: 39.27 / L: 23.78) \tMoving Average: 28.17\n",
      "Episode  75 (03m23s)\tScore: 35.30 (H: 39.39 / L: 29.26) \tMoving Average: 28.27\n",
      "Episode  76 (03m22s)\tScore: 35.32 (H: 39.05 / L: 20.08) \tMoving Average: 28.36\n",
      "Episode  77 (03m23s)\tScore: 34.37 (H: 39.45 / L: 13.42) \tMoving Average: 28.44\n",
      "Episode  78 (03m23s)\tScore: 30.67 (H: 36.35 / L:  0.90) \tMoving Average: 28.47\n",
      "Episode  79 (03m23s)\tScore: 32.97 (H: 39.62 / L: 22.96) \tMoving Average: 28.52\n",
      "Episode  80 (03m23s)\tScore: 37.43 (H: 39.45 / L: 28.06) \tMoving Average: 28.63\n",
      "Episode  81 (03m23s)\tScore: 31.85 (H: 39.06 / L: 13.77) \tMoving Average: 28.67\n",
      "Episode  82 (03m23s)\tScore: 33.28 (H: 37.93 / L:  2.75) \tMoving Average: 28.73\n",
      "Episode  83 (03m22s)\tScore: 35.56 (H: 38.83 / L: 30.38) \tMoving Average: 28.81\n",
      "Episode  84 (03m23s)\tScore: 35.04 (H: 39.06 / L: 14.84) \tMoving Average: 28.89\n",
      "Episode  85 (03m23s)\tScore: 37.20 (H: 39.63 / L: 28.94) \tMoving Average: 28.98\n",
      "Episode  86 (03m23s)\tScore: 36.18 (H: 39.56 / L: 26.69) \tMoving Average: 29.07\n",
      "Episode  87 (03m23s)\tScore: 34.45 (H: 38.67 / L: 15.18) \tMoving Average: 29.13\n",
      "Episode  88 (03m23s)\tScore: 35.52 (H: 39.21 / L: 32.37) \tMoving Average: 29.20\n",
      "Episode  89 (03m23s)\tScore: 33.93 (H: 39.51 / L:  3.38) \tMoving Average: 29.25\n",
      "Episode  90 (03m22s)\tScore: 32.63 (H: 39.37 / L: 18.05) \tMoving Average: 29.29\n",
      "Episode  91 (03m23s)\tScore: 34.42 (H: 38.82 / L: 25.68) \tMoving Average: 29.35\n",
      "Episode  92 (03m23s)\tScore: 37.76 (H: 39.51 / L: 35.46) \tMoving Average: 29.44\n",
      "Episode  93 (03m22s)\tScore: 34.37 (H: 39.49 / L: 27.96) \tMoving Average: 29.49\n",
      "Episode  94 (03m23s)\tScore: 36.40 (H: 39.45 / L: 23.81) \tMoving Average: 29.57\n",
      "Episode  95 (03m23s)\tScore: 33.57 (H: 38.84 / L: 27.72) \tMoving Average: 29.61\n",
      "Episode  96 (03m29s)\tScore: 33.89 (H: 37.96 / L: 29.01) \tMoving Average: 29.65\n",
      "Episode  97 (03m24s)\tScore: 34.11 (H: 38.78 / L: 30.32) \tMoving Average: 29.70\n",
      "Episode  98 (03m24s)\tScore: 36.63 (H: 39.66 / L: 33.78) \tMoving Average: 29.77\n",
      "Episode  99 (03m24s)\tScore: 30.81 (H: 36.58 / L: 14.30) \tMoving Average: 29.78\n",
      "Episode 100 (03m23s)\tScore: 35.12 (H: 39.01 / L: 26.62) \tMoving Average: 29.83\n",
      "Episode 101 (03m24s)\tScore: 36.17 (H: 39.45 / L: 28.30) \tMoving Average: 30.19\n",
      "\n",
      "Environment SOLVED in 1 episodes!\tWith the Moving Average of =30.2.\n"
     ]
    }
   ],
   "source": [
    "from ddpg_agent import Agent\n",
    "print('Following is the result (score information) after each episode.')\n",
    "# Create the Agent\n",
    "agent = Agent(state_size, action_size, random_seed=0)\n",
    "# Train the Agent\n",
    "scores, moving_avg = ddpg()"
   ]
  },
  {
   "cell_type": "code",
   "execution_count": 9,
   "metadata": {},
   "outputs": [
    {
     "data": {
      "image/png": "[encoded data removed]",
      "text/plain": [
       "<matplotlib.figure.Figure at 0x7fafaa0a4e10>"
      ]
     },
     "metadata": {
      "needs_background": "light"
     },
     "output_type": "display_data"
    }
   ],
   "source": [
    " # plot the scores\n",
    "target = [30] * len(scores)\n",
    "fig = plt.figure()\n",
    "ax = fig.add_subplot(111)\n",
    "plt.plot(np.arange(len(scores)), scores, label = 'DDPG')\n",
    "plt.plot(np.arange(len(target)), target, c='r', label='target' )\n",
    "plt.plot(np.arange(len(scores)), moving_avg, c='Green', label='moving avg')\n",
    "plt.ylabel('Score')\n",
    "plt.xlabel('Episode #')\n",
    "plt.legend(loc= 0)\n",
    "plt.show()"
   ]
  },
  {
   "cell_type": "code",
   "execution_count": 10,
   "metadata": {},
   "outputs": [
    {
     "data": {
      "text/plain": [
       "<All keys matched successfully>"
      ]
     },
     "execution_count": 10,
     "metadata": {},
     "output_type": "execute_result"
    }
   ],
   "source": [
    "## Load the trained model\n",
    "from ddpg_agent import Agent\n",
    "agent = Agent(state_size, action_size, random_seed=0)\n",
    "checkpoint_actor = torch.load('actor_checkpoint.pth', map_location='cpu')\n",
    "checkpoint_critic = torch.load('critic_checkpoint.pth', map_location='cpu')\n",
    "agent.actor_local.load_state_dict(checkpoint_actor)\n",
    "agent.critic_local.load_state_dict(checkpoint_critic )"
   ]
  },
  {
   "cell_type": "code",
   "execution_count": 12,
   "metadata": {},
   "outputs": [
    {
     "name": "stdout",
     "output_type": "stream",
     "text": [
      "Score for this episode: 132.17\n"
     ]
    }
   ],
   "source": [
    "## Watch the agent performing in the environment\n",
    "scores_episode = np.zeros(num_agents)\n",
    "for i in range(4000):\n",
    "    actions = agent.act(states, noise=False)\n",
    "    env_info = env.step(actions)[brain_name]\n",
    "    states = env_info.vector_observations\n",
    "    rewards = env_info.rewards\n",
    "    scores_episode += rewards\n",
    "\n",
    "print('Score for this episode: {:.2f}'.format(scores_episode.mean()))"
   ]
  },
  {
   "cell_type": "code",
   "execution_count": null,
   "metadata": {},
   "outputs": [],
   "source": [
    "#env.close()"
   ]
  }
 ],
 "metadata": {
  "kernelspec": {
   "display_name": "Python 3",
   "language": "python",
   "name": "python3"
  },
  "language_info": {
   "codemirror_mode": {
    "name": "ipython",
    "version": 3
   },
   "file_extension": ".py",
   "mimetype": "text/x-python",
   "name": "python",
   "nbconvert_exporter": "python",
   "pygments_lexer": "ipython3",
   "version": "3.7.6"
  }
 },
 "nbformat": 4,
 "nbformat_minor": 2
}
